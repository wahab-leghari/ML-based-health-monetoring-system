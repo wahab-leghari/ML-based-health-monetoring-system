{
 "cells": [
  {
   "cell_type": "code",
   "execution_count": 1,
   "id": "b80a4294-bbb1-4be2-80a3-66adb3a2d8f2",
   "metadata": {},
   "outputs": [],
   "source": [
    "import numpy as np\n",
    "import matplotlib.pyplot as plt\n",
    "import pandas as pd"
   ]
  },
  {
   "cell_type": "code",
   "execution_count": 2,
   "id": "056421bf-a482-41bc-a4d3-30927d1b7c49",
   "metadata": {},
   "outputs": [
    {
     "name": "stderr",
     "output_type": "stream",
     "text": [
      "b'Skipping line 50: expected 13 fields, saw 14\\n'\n"
     ]
    }
   ],
   "source": [
    "df = pd.read_csv(\"echocardiogram.data\", sep=\",\", header=None, error_bad_lines=False)\n",
    "df.to_excel(\"output.xlsx\")"
   ]
  },
  {
   "cell_type": "code",
   "execution_count": 3,
   "id": "69e487b9-8431-4735-b174-b8ec4accd8cd",
   "metadata": {},
   "outputs": [],
   "source": [
    "df.columns = ['survival', 'still-alive', 'age-at-heart-attack', 'pericardial-effusion', 'fractional-shortening', 'epss', 'lvdd', 'wall-motion-score', 'wall-motion-index', 'mult', 'name', 'group', 'alive-at-1']"
   ]
  },
  {
   "cell_type": "code",
   "execution_count": 4,
   "id": "ff36e9da-61b2-42e4-8714-19827f157ae1",
   "metadata": {},
   "outputs": [
    {
     "data": {
      "text/html": [
       "<div>\n",
       "<style scoped>\n",
       "    .dataframe tbody tr th:only-of-type {\n",
       "        vertical-align: middle;\n",
       "    }\n",
       "\n",
       "    .dataframe tbody tr th {\n",
       "        vertical-align: top;\n",
       "    }\n",
       "\n",
       "    .dataframe thead th {\n",
       "        text-align: right;\n",
       "    }\n",
       "</style>\n",
       "<table border=\"1\" class=\"dataframe\">\n",
       "  <thead>\n",
       "    <tr style=\"text-align: right;\">\n",
       "      <th></th>\n",
       "      <th>survival</th>\n",
       "      <th>still-alive</th>\n",
       "      <th>age-at-heart-attack</th>\n",
       "      <th>pericardial-effusion</th>\n",
       "      <th>fractional-shortening</th>\n",
       "      <th>epss</th>\n",
       "      <th>lvdd</th>\n",
       "      <th>wall-motion-score</th>\n",
       "      <th>wall-motion-index</th>\n",
       "      <th>mult</th>\n",
       "      <th>name</th>\n",
       "      <th>group</th>\n",
       "      <th>alive-at-1</th>\n",
       "    </tr>\n",
       "  </thead>\n",
       "  <tbody>\n",
       "    <tr>\n",
       "      <th>0</th>\n",
       "      <td>11</td>\n",
       "      <td>0</td>\n",
       "      <td>71</td>\n",
       "      <td>0</td>\n",
       "      <td>0.260</td>\n",
       "      <td>9</td>\n",
       "      <td>4.600</td>\n",
       "      <td>14</td>\n",
       "      <td>1</td>\n",
       "      <td>1</td>\n",
       "      <td>name</td>\n",
       "      <td>1</td>\n",
       "      <td>0</td>\n",
       "    </tr>\n",
       "    <tr>\n",
       "      <th>1</th>\n",
       "      <td>19</td>\n",
       "      <td>0</td>\n",
       "      <td>72</td>\n",
       "      <td>0</td>\n",
       "      <td>0.380</td>\n",
       "      <td>6</td>\n",
       "      <td>4.100</td>\n",
       "      <td>14</td>\n",
       "      <td>1.700</td>\n",
       "      <td>0.588</td>\n",
       "      <td>name</td>\n",
       "      <td>1</td>\n",
       "      <td>0</td>\n",
       "    </tr>\n",
       "    <tr>\n",
       "      <th>2</th>\n",
       "      <td>16</td>\n",
       "      <td>0</td>\n",
       "      <td>55</td>\n",
       "      <td>0</td>\n",
       "      <td>0.260</td>\n",
       "      <td>4</td>\n",
       "      <td>3.420</td>\n",
       "      <td>14</td>\n",
       "      <td>1</td>\n",
       "      <td>1</td>\n",
       "      <td>name</td>\n",
       "      <td>1</td>\n",
       "      <td>0</td>\n",
       "    </tr>\n",
       "    <tr>\n",
       "      <th>3</th>\n",
       "      <td>57</td>\n",
       "      <td>0</td>\n",
       "      <td>60</td>\n",
       "      <td>0</td>\n",
       "      <td>0.253</td>\n",
       "      <td>12.062</td>\n",
       "      <td>4.603</td>\n",
       "      <td>16</td>\n",
       "      <td>1.450</td>\n",
       "      <td>0.788</td>\n",
       "      <td>name</td>\n",
       "      <td>1</td>\n",
       "      <td>0</td>\n",
       "    </tr>\n",
       "    <tr>\n",
       "      <th>4</th>\n",
       "      <td>19</td>\n",
       "      <td>1</td>\n",
       "      <td>57</td>\n",
       "      <td>0</td>\n",
       "      <td>0.160</td>\n",
       "      <td>22</td>\n",
       "      <td>5.750</td>\n",
       "      <td>18</td>\n",
       "      <td>2.250</td>\n",
       "      <td>0.571</td>\n",
       "      <td>name</td>\n",
       "      <td>1</td>\n",
       "      <td>0</td>\n",
       "    </tr>\n",
       "  </tbody>\n",
       "</table>\n",
       "</div>"
      ],
      "text/plain": [
       "  survival  still-alive age-at-heart-attack  pericardial-effusion  \\\n",
       "0       11            0                  71                     0   \n",
       "1       19            0                  72                     0   \n",
       "2       16            0                  55                     0   \n",
       "3       57            0                  60                     0   \n",
       "4       19            1                  57                     0   \n",
       "\n",
       "  fractional-shortening    epss   lvdd wall-motion-score wall-motion-index  \\\n",
       "0                 0.260       9  4.600                14                 1   \n",
       "1                 0.380       6  4.100                14             1.700   \n",
       "2                 0.260       4  3.420                14                 1   \n",
       "3                 0.253  12.062  4.603                16             1.450   \n",
       "4                 0.160      22  5.750                18             2.250   \n",
       "\n",
       "    mult  name group alive-at-1  \n",
       "0      1  name     1          0  \n",
       "1  0.588  name     1          0  \n",
       "2      1  name     1          0  \n",
       "3  0.788  name     1          0  \n",
       "4  0.571  name     1          0  "
      ]
     },
     "execution_count": 4,
     "metadata": {},
     "output_type": "execute_result"
    }
   ],
   "source": [
    "df.head()"
   ]
  },
  {
   "cell_type": "code",
   "execution_count": 5,
   "id": "cab080f6-8555-4dac-9756-eda59212b1ae",
   "metadata": {},
   "outputs": [
    {
     "data": {
      "text/plain": [
       "Index(['survival', 'still-alive', 'age-at-heart-attack',\n",
       "       'pericardial-effusion', 'fractional-shortening', 'epss', 'lvdd',\n",
       "       'wall-motion-score', 'wall-motion-index', 'mult', 'name', 'group',\n",
       "       'alive-at-1'],\n",
       "      dtype='object')"
      ]
     },
     "execution_count": 5,
     "metadata": {},
     "output_type": "execute_result"
    }
   ],
   "source": [
    "df.columns"
   ]
  },
  {
   "cell_type": "code",
   "execution_count": 6,
   "id": "2f8c352a-3d66-404d-9b58-fcb6eeb9e678",
   "metadata": {},
   "outputs": [
    {
     "data": {
      "text/plain": [
       "<bound method DataFrame.info of     survival  still-alive age-at-heart-attack  pericardial-effusion  \\\n",
       "0         11            0                  71                     0   \n",
       "1         19            0                  72                     0   \n",
       "2         16            0                  55                     0   \n",
       "3         57            0                  60                     0   \n",
       "4         19            1                  57                     0   \n",
       "..       ...          ...                 ...                   ...   \n",
       "126      7.5            1                  64                     0   \n",
       "127       41            0                  64                     0   \n",
       "128       36            0                  69                     0   \n",
       "129       22            0                  57                     0   \n",
       "130       20            0                  62                     0   \n",
       "\n",
       "    fractional-shortening    epss   lvdd wall-motion-score wall-motion-index  \\\n",
       "0                   0.260       9  4.600                14                 1   \n",
       "1                   0.380       6  4.100                14             1.700   \n",
       "2                   0.260       4  3.420                14                 1   \n",
       "3                   0.253  12.062  4.603                16             1.450   \n",
       "4                   0.160      22  5.750                18             2.250   \n",
       "..                    ...     ...    ...               ...               ...   \n",
       "126                  0.24    12.9   4.72                12                 1   \n",
       "127                  0.28    5.40   5.47                11              1.10   \n",
       "128                  0.20    7.00   5.05              14.5              1.21   \n",
       "129                  0.14    16.1   4.36                15              1.36   \n",
       "130                  0.15       0   4.51              15.5             1.409   \n",
       "\n",
       "      mult  name group alive-at-1  \n",
       "0        1  name     1          0  \n",
       "1    0.588  name     1          0  \n",
       "2        1  name     1          0  \n",
       "3    0.788  name     1          0  \n",
       "4    0.571  name     1          0  \n",
       "..     ...   ...   ...        ...  \n",
       "126  0.857  name     ?          ?  \n",
       "127  0.714  name     ?          ?  \n",
       "128  0.857  name     ?          ?  \n",
       "129  0.786  name     ?          ?  \n",
       "130  0.786  name     ?          ?  \n",
       "\n",
       "[131 rows x 13 columns]>"
      ]
     },
     "execution_count": 6,
     "metadata": {},
     "output_type": "execute_result"
    }
   ],
   "source": [
    "df.info"
   ]
  },
  {
   "cell_type": "code",
   "execution_count": 7,
   "id": "c084c4c9-fe77-492d-b512-16fe14a6de84",
   "metadata": {},
   "outputs": [],
   "source": [
    "df.drop(['name', 'group'], axis = 1, inplace = True)"
   ]
  },
  {
   "cell_type": "code",
   "execution_count": 8,
   "id": "9b63f882-92fa-40d2-aa66-5c8e1bea3fca",
   "metadata": {},
   "outputs": [],
   "source": [
    "df.replace({'?': 0}, inplace = True)"
   ]
  },
  {
   "cell_type": "code",
   "execution_count": 9,
   "id": "40a8ad21-8522-4557-bf69-a3866f7cbe21",
   "metadata": {},
   "outputs": [],
   "source": [
    "X = df.iloc[:, :-1].values\n",
    "y = df.iloc[:, -1].values\n",
    "y=y.astype('int')"
   ]
  },
  {
   "cell_type": "code",
   "execution_count": 10,
   "id": "1a794b33-2cad-4912-a69c-40eb6d9e9349",
   "metadata": {},
   "outputs": [],
   "source": [
    "from sklearn.experimental import enable_iterative_imputer\n",
    "from sklearn.impute import IterativeImputer\n",
    "\n",
    "imputer = IterativeImputer(max_iter=10, random_state=0)\n",
    "imputer.fit(X[:, :-1])\n",
    "X[:, :-1] = imputer.transform(X[:, :-1])"
   ]
  },
  {
   "cell_type": "code",
   "execution_count": 11,
   "id": "8826214d-00cf-441a-a29e-8762863c8900",
   "metadata": {},
   "outputs": [
    {
     "data": {
      "text/plain": [
       "array([[11.0, 0.0, 71.0, ..., 14.0, 1.0, '1'],\n",
       "       [19.0, 0.0, 72.0, ..., 14.0, 1.7, '0.588'],\n",
       "       [16.0, 0.0, 55.0, ..., 14.0, 1.0, '1'],\n",
       "       ...,\n",
       "       [36.0, 0.0, 69.0, ..., 14.5, 1.21, '0.857'],\n",
       "       [22.0, 0.0, 57.0, ..., 15.0, 1.36, '0.786'],\n",
       "       [20.0, 0.0, 62.0, ..., 15.5, 1.409, '0.786']], dtype=object)"
      ]
     },
     "execution_count": 11,
     "metadata": {},
     "output_type": "execute_result"
    }
   ],
   "source": [
    "X"
   ]
  },
  {
   "cell_type": "code",
   "execution_count": 12,
   "id": "eda2a0fc-462e-46a9-9ec2-e2798ccbc286",
   "metadata": {},
   "outputs": [
    {
     "data": {
      "text/plain": [
       "array([0, 0, 0, 0, 0, 0, 0, 0, 0, 0, 1, 0, 0, 0, 1, 0, 1, 1, 0, 1, 1, 1,\n",
       "       1, 1, 0, 0, 0, 0, 0, 0, 0, 0, 0, 0, 0, 0, 0, 1, 0, 0, 0, 0, 0, 0,\n",
       "       0, 0, 0, 0, 1, 1, 1, 0, 0, 1, 0, 0, 0, 0, 0, 0, 0, 0, 0, 0, 0, 0,\n",
       "       0, 0, 0, 1, 0, 0, 0, 0, 0, 0, 1, 0, 0, 0, 0, 0, 1, 1, 0, 0, 0, 0,\n",
       "       0, 0, 0, 0, 0, 1, 0, 0, 0, 1, 1, 0, 0, 0, 0, 1, 0, 0, 0, 1, 1, 0,\n",
       "       0, 0, 0, 0, 0, 0, 0, 0, 0, 0, 0, 0, 0, 0, 0, 0, 0, 0, 0, 0, 0])"
      ]
     },
     "execution_count": 12,
     "metadata": {},
     "output_type": "execute_result"
    }
   ],
   "source": [
    "y"
   ]
  },
  {
   "cell_type": "code",
   "execution_count": 13,
   "id": "3053b894-0704-4543-a2ce-e487b4cf2f48",
   "metadata": {},
   "outputs": [],
   "source": [
    "from sklearn.preprocessing import LabelEncoder\n",
    "le = LabelEncoder()\n",
    "y = le.fit_transform(y)"
   ]
  },
  {
   "cell_type": "code",
   "execution_count": 14,
   "id": "2cc58220-5c8e-4406-8048-3b774fda0272",
   "metadata": {},
   "outputs": [
    {
     "data": {
      "text/plain": [
       "array([0, 0, 0, 0, 0, 0, 0, 0, 0, 0, 1, 0, 0, 0, 1, 0, 1, 1, 0, 1, 1, 1,\n",
       "       1, 1, 0, 0, 0, 0, 0, 0, 0, 0, 0, 0, 0, 0, 0, 1, 0, 0, 0, 0, 0, 0,\n",
       "       0, 0, 0, 0, 1, 1, 1, 0, 0, 1, 0, 0, 0, 0, 0, 0, 0, 0, 0, 0, 0, 0,\n",
       "       0, 0, 0, 1, 0, 0, 0, 0, 0, 0, 1, 0, 0, 0, 0, 0, 1, 1, 0, 0, 0, 0,\n",
       "       0, 0, 0, 0, 0, 1, 0, 0, 0, 1, 1, 0, 0, 0, 0, 1, 0, 0, 0, 1, 1, 0,\n",
       "       0, 0, 0, 0, 0, 0, 0, 0, 0, 0, 0, 0, 0, 0, 0, 0, 0, 0, 0, 0, 0],\n",
       "      dtype=int64)"
      ]
     },
     "execution_count": 14,
     "metadata": {},
     "output_type": "execute_result"
    }
   ],
   "source": [
    "y"
   ]
  },
  {
   "cell_type": "code",
   "execution_count": 15,
   "id": "8b66a78a-75f0-4735-a3f4-cbfcc35c428f",
   "metadata": {},
   "outputs": [],
   "source": [
    "from sklearn.model_selection import train_test_split\n",
    "X_train, X_test, y_train, y_test = train_test_split(X, y, test_size = 0.2, random_state = 1)"
   ]
  },
  {
   "cell_type": "code",
   "execution_count": 16,
   "id": "80e41f4d-eccd-4cd6-b172-29a89b59581b",
   "metadata": {},
   "outputs": [
    {
     "name": "stdout",
     "output_type": "stream",
     "text": [
      "[[34.0 0.0 62.0 ... 19.5 1.95 '0.714']\n",
      " [27.0 0.0 47.0 ... 12.0 1.0 '0.857']\n",
      " [38.0 0.0 68.0 ... 14.0 1.167 '0.857']\n",
      " ...\n",
      " [32.0 0.0 65.0 ... 12.0 1.09 '0.785']\n",
      " [41.0 0.0 59.0 ... 13.0 1.08 '0.857']\n",
      " [1.0 1.0 65.0 ... 21.5 2.15 '0.714']]\n"
     ]
    }
   ],
   "source": [
    "print(X_train)"
   ]
  },
  {
   "cell_type": "code",
   "execution_count": 17,
   "id": "d7cab9ef-96f1-45d0-85af-27273cc554fa",
   "metadata": {},
   "outputs": [
    {
     "name": "stdout",
     "output_type": "stream",
     "text": [
      "[[40.0 0.0 79.0 0.0 0.15 17.5 4.27 13.0 1.3 '0.714']\n",
      " [27.0 0.0 54.0 1.0 0.07 16.8 4.16 18.0 1.5 '0.857']\n",
      " [36.0 0.0 69.0 0.0 0.2 7.0 5.05 14.5 1.21 '0.857']\n",
      " [26.0 0.0 68.0 0.0 0.26 5.0 4.31 12.0 1.0 '0.857']\n",
      " [2.0 1.0 67.0 1.0 0.44 9.0 3.96 17.5 1.45 '0.857']\n",
      " [0.25 1.0 68.0 0.0 0.22 21.7 4.85 15.0 1.15 '0.928']\n",
      " [25.0 0.0 62.0 0.0 0.258 11.8 4.87 11.0 1.0 '0.786']\n",
      " [13.0 0.0 66.0 0.0 0.24 13.6 4.38 22.0 2.2 '0.714']\n",
      " [5.0 1.0 65.0 1.0 0.16 8.5 5.47 16.0 1.45 '0.786']\n",
      " [0.5 1.0 62.529 1.0 0.07 20.0 5.2 24.0 2.0 '0.857']\n",
      " [7.5 1.0 64.0 0.0 0.24 12.9 4.72 12.0 1.0 '0.857']\n",
      " [1.0 1.0 52.0 1.0 0.17 17.2 5.32 14.0 1.17 '0.857']\n",
      " [0.75 1.0 78.0 0.0 0.05 10.0 4.44 15.0 1.36 '0.786']\n",
      " [26.0 0.0 79.0 0.0 0.17 11.9 5.15 10.5 1.05 '0.714']\n",
      " [4.0 1.0 58.0 0.0 0.17 28.9 6.73 26.08 2.01 '0.928']\n",
      " [22.0 0.0 57.0 0.0 0.13 18.6 4.37 12.33 1.37 '0.642']\n",
      " [19.5 1.0 81.0 0.0 0.12 0.0 0.0 9.0 1.25 '0.570']\n",
      " [34.0 0.0 54.0 0.0 0.43 9.3 4.79 10.0 1.0 '0.714']\n",
      " [49.0 0.0 70.0 1.0 0.25 9.7 5.57 5.5 1.1 '0.357']\n",
      " [19.0 1.0 57.0 0.0 0.16 22.0 5.75 18.0 2.25 '0.571']\n",
      " [28.0 0.0 0.0 0.0 0.23 19.1 5.49 12.0 1.2 '0.71']\n",
      " [32.0 0.0 54.0 0.0 0.35 9.3 3.63 11.0 1.222 '0.640']\n",
      " [1.0 1.0 73.0 0.0 0.05 14.8 4.14 15.5 1.41 '0.786']\n",
      " [36.0 0.0 61.0 0.0 0.27 9.0 4.06 12.0 1.0 '0.857']\n",
      " [10.0 0.0 66.0 0.0 0.29 15.6 6.15 14.0 1.0 '1']\n",
      " [26.0 0.0 61.0 0.0 0.61 13.1 4.07 13.0 1.625 '0.571']\n",
      " [37.0 0.0 64.0 0.0 0.09 0.0 0.0 12.0 2.0 '0.428']]\n"
     ]
    }
   ],
   "source": [
    "print(X_test)"
   ]
  },
  {
   "cell_type": "code",
   "execution_count": 18,
   "id": "b0bf43b3-be6d-46e6-9c19-232aa319d98b",
   "metadata": {},
   "outputs": [
    {
     "name": "stdout",
     "output_type": "stream",
     "text": [
      "[0 0 0 0 0 0 0 0 0 1 0 0 0 1 0 1 0 0 0 0 0 0 0 0 1 0 0 0 0 1 0 0 0 1 0 0 0\n",
      " 1 1 0 0 0 0 0 0 0 0 0 0 0 1 1 0 1 1 0 0 0 0 0 0 0 0 0 0 0 0 0 0 1 0 0 0 0\n",
      " 0 0 0 0 0 1 0 0 0 1 0 0 0 0 0 0 0 1 1 0 0 0 0 1 0 1 0 0 0 1]\n"
     ]
    }
   ],
   "source": [
    "print(y_train)"
   ]
  },
  {
   "cell_type": "code",
   "execution_count": 19,
   "id": "34477fd4-f981-4daf-9eaf-0ee322413b18",
   "metadata": {},
   "outputs": [
    {
     "name": "stdout",
     "output_type": "stream",
     "text": [
      "[0 0 0 0 0 0 0 0 1 1 0 0 1 0 1 0 0 0 0 0 0 0 0 0 0 0 0]\n"
     ]
    }
   ],
   "source": [
    "print(y_test)"
   ]
  },
  {
   "cell_type": "code",
   "execution_count": 20,
   "id": "9e3f83c5-c46c-4a58-a3c2-d31102b262bb",
   "metadata": {},
   "outputs": [],
   "source": [
    "from sklearn.preprocessing import StandardScaler\n",
    "sc = StandardScaler()\n",
    "X_train = sc.fit_transform(X_train)\n",
    "X_test = sc.transform(X_test)"
   ]
  },
  {
   "cell_type": "code",
   "execution_count": 21,
   "id": "3a26a997-cfd6-407d-95b8-d5715d162900",
   "metadata": {},
   "outputs": [
    {
     "name": "stdout",
     "output_type": "stream",
     "text": [
      "[[ 0.70244464 -0.66666667  0.1482894  ...  0.9671232   1.21277879\n",
      "  -0.19560496]\n",
      " [ 0.26896916 -0.66666667 -0.88907145 ... -0.36842218 -0.75355602\n",
      "   0.39053991]\n",
      " [ 0.95014492 -0.66666667  0.56323375 ... -0.01227674 -0.40789506\n",
      "   0.39053991]\n",
      " ...\n",
      " [ 0.57859451 -0.66666667  0.35576157 ... -0.36842218 -0.56727167\n",
      "   0.09541802]\n",
      " [ 1.13592013 -0.66666667 -0.05918277 ... -0.19034946 -0.58796993\n",
      "   0.39053991]\n",
      " [-1.34108265  1.5         0.35576157 ...  1.32326864  1.62674401\n",
      "  -0.19560496]]\n"
     ]
    }
   ],
   "source": [
    "print(X_train)"
   ]
  },
  {
   "cell_type": "code",
   "execution_count": 22,
   "id": "d37f5993-2aa6-48a6-a155-a9098400d27a",
   "metadata": {},
   "outputs": [
    {
     "name": "stdout",
     "output_type": "stream",
     "text": [
      "[[ 1.07399506e+00 -6.66666667e-01  1.32396504e+00 -4.57495711e-01\n",
      "  -4.67217756e-01  8.86822300e-01 -7.32732932e-02 -1.90349462e-01\n",
      "  -1.32608186e-01 -1.95604960e-01]\n",
      " [ 2.68969158e-01 -6.66666667e-01 -4.04969718e-01  2.18581284e+00\n",
      "  -1.18349779e+00  8.00629019e-01 -1.47049607e-01  7.00014126e-01\n",
      "   2.81357036e-01  3.90539905e-01]\n",
      " [ 8.26294784e-01 -6.66666667e-01  6.32391136e-01 -4.57495711e-01\n",
      "  -1.95427364e-02 -4.06076909e-01  4.49867839e-01  7.67596146e-02\n",
      "  -3.18892536e-01  3.90539905e-01]\n",
      " [ 2.07044088e-01 -6.66666667e-01  5.63233745e-01 -4.57495711e-01\n",
      "   5.17667287e-01 -6.52343425e-01 -4.64455429e-02 -3.68422179e-01\n",
      "  -7.53556019e-01  3.90539905e-01]\n",
      " [-1.27915758e+00  1.50000000e+00  4.94076355e-01  2.18581284e+00\n",
      "   2.12929736e+00 -1.59810393e-01 -2.81188359e-01  6.10977767e-01\n",
      "   1.77865730e-01  3.90539905e-01]\n",
      " [-1.38752645e+00  1.50000000e+00  5.63233745e-01 -4.57495711e-01\n",
      "   1.59527271e-01  1.40398198e+00  3.15729087e-01  1.65795973e-01\n",
      "  -4.43082103e-01  6.81562881e-01]\n",
      " [ 1.45119019e-01 -6.66666667e-01  1.48289404e-01 -4.57495711e-01\n",
      "   4.99760286e-01  1.84962729e-01  3.29142963e-01 -5.46494896e-01\n",
      "  -7.53556019e-01  9.95169302e-02]\n",
      " [-5.97981816e-01 -6.66666667e-01  4.24918965e-01 -4.57495711e-01\n",
      "   3.38597279e-01  4.06602594e-01  5.03020320e-04  1.41230500e+00\n",
      "   1.73023531e+00 -1.95604960e-01]\n",
      " [-1.09338237e+00  1.50000000e+00  3.55761575e-01  2.18581284e+00\n",
      "  -3.77682752e-01 -2.21377022e-01  7.31559218e-01  3.43868691e-01\n",
      "   1.77865730e-01  9.95169302e-02]\n",
      " [-1.37204518e+00  1.50000000e+00  1.84873663e-01  2.18581284e+00\n",
      "  -1.18349779e+00  1.19465544e+00  5.50471903e-01  1.76845043e+00\n",
      "   1.31627009e+00  3.90539905e-01]\n",
      " [-9.38569698e-01  1.50000000e+00  2.86604184e-01 -4.57495711e-01\n",
      "   3.38597279e-01  3.20409313e-01  2.28538899e-01 -3.68422179e-01\n",
      "  -7.53556019e-01  3.90539905e-01]\n",
      " [-1.34108265e+00  1.50000000e+00 -5.43284498e-01  2.18581284e+00\n",
      "  -2.88147748e-01  8.49882322e-01  6.30955154e-01 -1.22767441e-02\n",
      "  -4.01685581e-01  3.90539905e-01]\n",
      " [-1.35656392e+00  1.50000000e+00  1.25480765e+00 -4.57495711e-01\n",
      "  -1.36256780e+00 -3.66771353e-02  4.07446459e-02  1.65795973e-01\n",
      "  -8.41861966e-03  9.95169302e-02]\n",
      " [ 2.07044088e-01 -6.66666667e-01  1.32396504e+00 -4.57495711e-01\n",
      "  -2.88147748e-01  1.97276055e-01  5.16937215e-01 -6.35531255e-01\n",
      "  -6.50064714e-01 -1.95604960e-01]\n",
      " [-1.15530744e+00  1.50000000e+00 -1.28340157e-01 -4.57495711e-01\n",
      "  -2.88147748e-01  2.29054144e+00  1.57663336e+00  2.13884168e+00\n",
      "   1.33696835e+00  6.81562881e-01]\n",
      " [-4.06561899e-02 -6.66666667e-01 -1.97497547e-01 -4.57495711e-01\n",
      "  -6.46287764e-01  1.02226888e+00 -6.20391728e-03 -3.09658182e-01\n",
      "   1.22796414e-02 -4.90726851e-01]\n",
      " [-1.95468864e-01  1.50000000e+00  1.46227982e+00 -4.57495711e-01\n",
      "  -7.35822768e-01 -1.26800972e+00 -2.93713565e+00 -9.02640331e-01\n",
      "  -2.36099492e-01 -7.85848741e-01]\n",
      " [ 7.02444644e-01 -6.66666667e-01 -4.04969718e-01 -4.57495711e-01\n",
      "   2.03976235e+00 -1.22870416e-01  2.75487462e-01 -7.24567614e-01\n",
      "  -7.53556019e-01 -1.95604960e-01]\n",
      " [ 1.63132069e+00 -6.66666667e-01  7.01548526e-01  2.18581284e+00\n",
      "   4.28132283e-01 -7.36171127e-02  7.98628594e-01 -1.52589484e+00\n",
      "  -5.46573408e-01 -1.65891767e+00]\n",
      " [-2.26431398e-01  1.50000000e+00 -1.97497547e-01 -4.57495711e-01\n",
      "  -3.77682752e-01  1.44092196e+00  9.19353471e-01  7.00014126e-01\n",
      "   1.83372662e+00 -7.81749826e-01]\n",
      " [ 3.30894227e-01 -6.66666667e-01 -4.13946879e+00 -4.57495711e-01\n",
      "   2.49062275e-01  1.08383551e+00  7.44973093e-01 -3.68422179e-01\n",
      "  -3.39590797e-01 -2.12000621e-01]\n",
      " [ 5.78594505e-01 -6.66666667e-01 -4.04969718e-01 -4.57495711e-01\n",
      "   1.32348232e+00 -1.22870416e-01 -5.02517299e-01 -5.46494896e-01\n",
      "  -2.94054623e-01 -4.98924681e-01]\n",
      " [-1.34108265e+00  1.50000000e+00  9.09020696e-01 -4.57495711e-01\n",
      "  -1.36256780e+00  5.54362503e-01 -1.60463482e-01  2.54832332e-01\n",
      "   9.50726858e-02  9.95169302e-02]\n",
      " [ 8.26294784e-01 -6.66666667e-01  7.91320138e-02 -4.57495711e-01\n",
      "   6.07202291e-01 -1.59810393e-01 -2.14118983e-01 -3.68422179e-01\n",
      "  -7.53556019e-01  3.90539905e-01]\n",
      " [-7.83757024e-01 -6.66666667e-01  4.24918965e-01 -4.57495711e-01\n",
      "   7.86272299e-01  6.52869110e-01  1.18763097e+00 -1.22767441e-02\n",
      "  -7.53556019e-01  9.76684771e-01]\n",
      " [ 2.07044088e-01 -6.66666667e-01  7.91320138e-02 -4.57495711e-01\n",
      "   3.65139243e+00  3.45035965e-01 -2.07412045e-01 -1.90349462e-01\n",
      "   5.40085300e-01 -7.81749826e-01]\n",
      " [ 8.88219853e-01 -6.66666667e-01  2.86604184e-01 -4.57495711e-01\n",
      "  -1.00442778e+00 -1.26800972e+00 -2.93713565e+00 -3.68422179e-01\n",
      "   1.31627009e+00 -1.36789469e+00]]\n"
     ]
    }
   ],
   "source": [
    "print(X_test)"
   ]
  },
  {
   "cell_type": "code",
   "execution_count": 63,
   "id": "6c1f9a1f-33e6-4591-afba-a40d338a51c4",
   "metadata": {},
   "outputs": [
    {
     "data": {
      "text/plain": [
       "RandomForestClassifier(criterion='entropy', n_estimators=8, random_state=0)"
      ]
     },
     "execution_count": 63,
     "metadata": {},
     "output_type": "execute_result"
    }
   ],
   "source": [
    "from sklearn.ensemble import RandomForestClassifier\n",
    "classifier1 = RandomForestClassifier(n_estimators = 8, criterion = 'entropy', random_state = 0)\n",
    "classifier1.fit(X_train, y_train)\n"
   ]
  },
  {
   "cell_type": "code",
   "execution_count": 64,
   "id": "f951c377-6238-45af-a23d-9cecfec24431",
   "metadata": {},
   "outputs": [],
   "source": [
    "y_pred = classifier1.predict(X_test)"
   ]
  },
  {
   "cell_type": "code",
   "execution_count": 65,
   "id": "6c2cca0d-c048-4abb-86c4-7bc8ecc4ebab",
   "metadata": {},
   "outputs": [
    {
     "name": "stdout",
     "output_type": "stream",
     "text": [
      "[[21  2]\n",
      " [ 0  4]]\n"
     ]
    }
   ],
   "source": [
    "from sklearn.metrics import confusion_matrix\n",
    "cm = confusion_matrix(y_test, y_pred)\n",
    "print(cm)\n"
   ]
  },
  {
   "cell_type": "code",
   "execution_count": 66,
   "id": "89c105a8-e733-4191-b1b1-d1850c7d091e",
   "metadata": {},
   "outputs": [
    {
     "name": "stdout",
     "output_type": "stream",
     "text": [
      "92.5925925925926\n"
     ]
    }
   ],
   "source": [
    "from sklearn.metrics import accuracy_score\n",
    "print(accuracy_score(y_test, y_pred)*100)"
   ]
  },
  {
   "cell_type": "code",
   "execution_count": 68,
   "id": "885f2011",
   "metadata": {},
   "outputs": [
    {
     "data": {
      "image/png": "[encoded data removed]",
      "text/plain": [
       "<Figure size 432x288 with 1 Axes>"
      ]
     },
     "metadata": {},
     "output_type": "display_data"
    }
   ],
   "source": [
    "# Pie chart, where the slices will be ordered and plotted counter-clockwise:\n",
    "labels = 'true', 'false'\n",
    "sizes = [(classifier1.score(X_test, y_test)*100), 100-((classifier1.score(X_test, y_test))*100)]\n",
    "explode = (0, 0.1)  # only \"explode\" the 2nd slice (i.e. 'Hogs')\n",
    "\n",
    "fig1, ax1 = plt.subplots()\n",
    "ax1.pie(sizes, explode=explode, labels=labels, autopct='%1.1f%%',\n",
    "        shadow=True, startangle=90)\n",
    "ax1.axis('equal')  # Equal aspect ratio ensures that pie is drawn as a circle.\n",
    "plt.title('Accuracy of Random Forest:',fontsize=40)\n",
    "plt.show()"
   ]
  },
  {
   "cell_type": "code",
   "execution_count": 69,
   "id": "63029341",
   "metadata": {},
   "outputs": [
    {
     "data": {
      "text/plain": [
       "SVC(kernel='linear', random_state=0)"
      ]
     },
     "execution_count": 69,
     "metadata": {},
     "output_type": "execute_result"
    }
   ],
   "source": [
    "from sklearn.svm import SVC\n",
    "classifier2 = SVC(kernel = 'linear', random_state = 0)\n",
    "classifier2.fit(X_train, y_train)"
   ]
  },
  {
   "cell_type": "code",
   "execution_count": 70,
   "id": "ef087cfc",
   "metadata": {},
   "outputs": [],
   "source": [
    "y_pred = classifier2.predict(X_test)"
   ]
  },
  {
   "cell_type": "code",
   "execution_count": 73,
   "id": "1bc1ddbc",
   "metadata": {},
   "outputs": [
    {
     "name": "stdout",
     "output_type": "stream",
     "text": [
      "[[18  5]\n",
      " [ 0  4]]\n"
     ]
    }
   ],
   "source": [
    "from sklearn.metrics import confusion_matrix\n",
    "cm = confusion_matrix(y_test, y_pred)\n",
    "print(cm)"
   ]
  },
  {
   "cell_type": "code",
   "execution_count": 74,
   "id": "d4a8fb8e",
   "metadata": {},
   "outputs": [
    {
     "name": "stdout",
     "output_type": "stream",
     "text": [
      "81.48148148148148\n"
     ]
    }
   ],
   "source": [
    "from sklearn.metrics import accuracy_score\n",
    "print(accuracy_score(y_test, y_pred)*100)"
   ]
  },
  {
   "cell_type": "code",
   "execution_count": 75,
   "id": "e11b8507",
   "metadata": {},
   "outputs": [
    {
     "data": {
      "image/png": "[encoded data removed]",
      "text/plain": [
       "<Figure size 432x288 with 1 Axes>"
      ]
     },
     "metadata": {},
     "output_type": "display_data"
    }
   ],
   "source": [
    "# Pie chart, where the slices will be ordered and plotted counter-clockwise:\n",
    "labels = 'true', 'false'\n",
    "sizes = [(classifier2.score(X_test, y_test)*100), 100-((classifier2.score(X_test, y_test))*100)]\n",
    "explode = (0, 0.1)  # only \"explode\" the 2nd slice (i.e. 'Hogs')\n",
    "\n",
    "fig1, ax1 = plt.subplots()\n",
    "ax1.pie(sizes, explode=explode, labels=labels, autopct='%1.1f%%',\n",
    "        shadow=True, startangle=90)\n",
    "ax1.axis('equal')  # Equal aspect ratio ensures that pie is drawn as a circle.\n",
    "plt.title('Accuracy of SVM:',fontsize=40)\n",
    "plt.show()"
   ]
  },
  {
   "cell_type": "code",
   "execution_count": 45,
   "id": "563e9965",
   "metadata": {},
   "outputs": [
    {
     "data": {
      "text/plain": [
       "Text(0, 0.5, 'Frequency')"
      ]
     },
     "execution_count": 45,
     "metadata": {},
     "output_type": "execute_result"
    },
    {
     "data": {
      "image/png": "[encoded data removed]",
      "text/plain": [
       "<Figure size 432x288 with 1 Axes>"
      ]
     },
     "metadata": {
      "needs_background": "light"
     },
     "output_type": "display_data"
    }
   ],
   "source": [
    "plt.hist(y_pred, bins=4)\n",
    "\n",
    "# x-axis limit from 0 to 1\n",
    "plt.xlim(0,1)\n",
    "plt.title('Histogram of predicted probabilities')\n",
    "plt.xlabel('Predicted probability of diabetes')\n",
    "plt.ylabel('Frequency')"
   ]
  },
  {
   "cell_type": "code",
   "execution_count": 46,
   "id": "528b37d2",
   "metadata": {},
   "outputs": [
    {
     "data": {
      "text/plain": [
       "Text(0, 0.5, 'Frequency')"
      ]
     },
     "execution_count": 46,
     "metadata": {},
     "output_type": "execute_result"
    },
    {
     "data": {
      "image/png": "[encoded data removed]",
      "text/plain": [
       "<Figure size 432x288 with 1 Axes>"
      ]
     },
     "metadata": {
      "needs_background": "light"
     },
     "output_type": "display_data"
    }
   ],
   "source": [
    "plt.hist(y_test, bins=4)\n",
    "\n",
    "# x-axis limit from 0 to 1\n",
    "plt.xlim(0,1)\n",
    "plt.title('Histogram of predicted probabilities')\n",
    "plt.xlabel('Predicted probability of diabetes')\n",
    "plt.ylabel('Frequency')"
   ]
  },
  {
   "cell_type": "code",
   "execution_count": null,
   "id": "078ad8f5",
   "metadata": {},
   "outputs": [],
   "source": []
  },
  {
   "cell_type": "code",
   "execution_count": 55,
   "id": "e4ff2403",
   "metadata": {},
   "outputs": [
    {
     "data": {
      "text/plain": [
       "(array([23.,  0.,  0.,  0.,  0.,  0.,  0.,  0.,  0.,  4.]),\n",
       " array([0. , 0.1, 0.2, 0.3, 0.4, 0.5, 0.6, 0.7, 0.8, 0.9, 1. ]),\n",
       " <BarContainer object of 10 artists>)"
      ]
     },
     "execution_count": 55,
     "metadata": {},
     "output_type": "execute_result"
    },
    {
     "data": {
      "image/png": "[encoded data removed]",
      "text/plain": [
       "<Figure size 432x288 with 1 Axes>"
      ]
     },
     "metadata": {
      "needs_background": "light"
     },
     "output_type": "display_data"
    }
   ],
   "source": [
    "plt.hist(y_test)"
   ]
  },
  {
   "cell_type": "code",
   "execution_count": 56,
   "id": "0b17e767",
   "metadata": {},
   "outputs": [
    {
     "data": {
      "text/plain": [
       "(array([18.,  0.,  0.,  0.,  0.,  0.,  0.,  0.,  0.,  9.]),\n",
       " array([0. , 0.1, 0.2, 0.3, 0.4, 0.5, 0.6, 0.7, 0.8, 0.9, 1. ]),\n",
       " <BarContainer object of 10 artists>)"
      ]
     },
     "execution_count": 56,
     "metadata": {},
     "output_type": "execute_result"
    },
    {
     "data": {
      "image/png": "[encoded data removed]",
      "text/plain": [
       "<Figure size 432x288 with 1 Axes>"
      ]
     },
     "metadata": {
      "needs_background": "light"
     },
     "output_type": "display_data"
    }
   ],
   "source": [
    "plt.hist(y_pred)"
   ]
  },
  {
   "cell_type": "code",
   "execution_count": 58,
   "id": "78d1791f",
   "metadata": {},
   "outputs": [
    {
     "data": {
      "image/png": "[encoded data removed]",
      "text/plain": [
       "<Figure size 432x288 with 1 Axes>"
      ]
     },
     "metadata": {
      "needs_background": "light"
     },
     "output_type": "display_data"
    }
   ],
   "source": [
    "import seaborn as sns\n",
    "sns.kdeplot(y_test)"
   ]
  },
  {
   "cell_type": "code",
   "execution_count": 59,
   "id": "328d7807",
   "metadata": {},
   "outputs": [
    {
     "data": {
      "image/png": "[encoded data removed]",
      "text/plain": [
       "<Figure size 432x288 with 1 Axes>"
      ]
     },
     "metadata": {
      "needs_background": "light"
     },
     "output_type": "display_data"
    }
   ],
   "source": [
    "import seaborn as sns\n",
    "sns.kdeplot(y_pred)"
   ]
  },
  {
   "cell_type": "code",
   "execution_count": 62,
   "id": "868fd08c",
   "metadata": {},
   "outputs": [
    {
     "name": "stderr",
     "output_type": "stream",
     "text": [
      "C:\\Users\\Abdul_Wahab\\anaconda3\\lib\\site-packages\\seaborn\\distributions.py:2557: FutureWarning: `distplot` is a deprecated function and will be removed in a future version. Please adapt your code to use either `displot` (a figure-level function with similar flexibility) or `histplot` (an axes-level function for histograms).\n",
      "  warnings.warn(msg, FutureWarning)\n"
     ]
    },
    {
     "data": {
      "image/png": "[encoded data removed]",
      "text/plain": [
       "<Figure size 432x288 with 1 Axes>"
      ]
     },
     "metadata": {
      "needs_background": "light"
     },
     "output_type": "display_data"
    }
   ],
   "source": [
    "sns.distplot(y_test)"
   ]
  },
  {
   "cell_type": "code",
   "execution_count": 64,
   "id": "085a9a5d",
   "metadata": {},
   "outputs": [
    {
     "name": "stderr",
     "output_type": "stream",
     "text": [
      "C:\\Users\\Abdul_Wahab\\anaconda3\\lib\\site-packages\\seaborn\\distributions.py:2557: FutureWarning: `distplot` is a deprecated function and will be removed in a future version. Please adapt your code to use either `displot` (a figure-level function with similar flexibility) or `histplot` (an axes-level function for histograms).\n",
      "  warnings.warn(msg, FutureWarning)\n"
     ]
    },
    {
     "data": {
      "image/png": "[encoded data removed]",
      "text/plain": [
       "<Figure size 432x288 with 1 Axes>"
      ]
     },
     "metadata": {
      "needs_background": "light"
     },
     "output_type": "display_data"
    }
   ],
   "source": [
    "sns.distplot(y_pred);"
   ]
  },
  {
   "cell_type": "code",
   "execution_count": 65,
   "id": "e2576f5f",
   "metadata": {},
   "outputs": [
    {
     "data": {
      "text/plain": [
       "<matplotlib.collections.PathCollection at 0x1a5a85ea9a0>"
      ]
     },
     "execution_count": 65,
     "metadata": {},
     "output_type": "execute_result"
    },
    {
     "data": {
      "image/png": "[encoded data removed]",
      "text/plain": [
       "<Figure size 432x288 with 1 Axes>"
      ]
     },
     "metadata": {
      "needs_background": "light"
     },
     "output_type": "display_data"
    }
   ],
   "source": [
    "plt.scatter(y_test, y_pred)"
   ]
  },
  {
   "cell_type": "code",
   "execution_count": null,
   "id": "094150fb",
   "metadata": {},
   "outputs": [],
   "source": []
  }
 ],
 "metadata": {
  "kernelspec": {
   "display_name": "Python 3",
   "language": "python",
   "name": "python3"
  },
  "language_info": {
   "codemirror_mode": {
    "name": "ipython",
    "version": 3
   },
   "file_extension": ".py",
   "mimetype": "text/x-python",
   "name": "python",
   "nbconvert_exporter": "python",
   "pygments_lexer": "ipython3",
   "version": "3.8.8"
  }
 },
 "nbformat": 4,
 "nbformat_minor": 5
}
